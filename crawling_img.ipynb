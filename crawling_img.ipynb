{
 "cells": [
  {
   "cell_type": "markdown",
   "metadata": {},
   "source": [
    "# Naver Image Crawling\n",
    "\n",
    "\"가수 벤\" 이라고 검색하고 500장의 이미지를 크롤링하였다."
   ]
  },
  {
   "cell_type": "code",
   "execution_count": 2,
   "metadata": {},
   "outputs": [],
   "source": [
    "import  urllib.request\n",
    "from  bs4  import  BeautifulSoup\n",
    "from selenium import webdriver\n",
    "from selenium.webdriver.common.keys import Keys\n",
    "import time\n",
    "\n",
    "binary = 'C:/chromedriver/chromedriver.exe'     # C 드라이브에 폴더 만들고 chromedriver.exe 파일을 폴더 안에 쏙\n",
    "browser = webdriver.Chrome(binary)\n",
    "browser.get(\"https://search.naver.com/search.naver?where=image&amp;sm=stb_nmr&amp;\") # 네이버 이미지 브라우저를 가져옴\n",
    "elem = browser.find_element_by_id(\"nx_query\")     # id로 검색하겠다는 의미 \n",
    "\n",
    "# 검색어 입력\n",
    "elem.send_keys(\"가수 벤\")            # \"가수 벤\" 검색!\n",
    "elem.submit()                        # 엔터!\n",
    "\n",
    "# 반복할 횟수\n",
    "for i in range(1,10):\n",
    "    browser.find_element_by_xpath(\"//body\").send_keys(Keys.END)  # 키보드 end 키를 누르겠다.\n",
    "    time.sleep(5)                # 사이트에 과부하가지 않도록, 이미지가 뜨는 시간을 벌기 위해 슬립 5초 줌\n",
    "\n",
    "time.sleep(5)\n",
    "html = browser.page_source\n",
    "soup = BeautifulSoup(html, \"html.parser\")\n",
    "#print(soup)               # 위의 이미지 파일들의 html 코드\n",
    "#print(len(soup))\n",
    "\n",
    "def fetch_list_url():       # 이미지 마다의 url를 가져오는 코드\n",
    "    params = []\n",
    "    imgList = soup.find_all(\"img\", class_=\"_img\")\n",
    "    for im in imgList:\n",
    "        params.append(im[\"src\"])\n",
    "    return params\n",
    "\n",
    "def fetch_detail_url():\n",
    "    params = fetch_list_url()\n",
    "    #print(params)\n",
    "    a = 1\n",
    "    for p in params:\n",
    "        # 다운받을 폴더경로 입력\n",
    "        urllib.request.urlretrieve(p, \"C:/naverImages/\"+ str(a) + \".jpg\" )\n",
    "        a = a + 1\n",
    "\n",
    "fetch_detail_url()\n",
    "browser.quit()"
   ]
  }
 ],
 "metadata": {
  "kernelspec": {
   "display_name": "Python 3",
   "language": "python",
   "name": "python3"
  },
  "language_info": {
   "codemirror_mode": {
    "name": "ipython",
    "version": 3
   },
   "file_extension": ".py",
   "mimetype": "text/x-python",
   "name": "python",
   "nbconvert_exporter": "python",
   "pygments_lexer": "ipython3",
   "version": "3.6.5"
  }
 },
 "nbformat": 4,
 "nbformat_minor": 2
}
