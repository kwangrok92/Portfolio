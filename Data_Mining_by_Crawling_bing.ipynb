{
 "cells": [
  {
   "cell_type": "code",
   "execution_count": 2,
   "metadata": {},
   "outputs": [],
   "source": [
    "#Bing 웹스크롤링\n",
    "import urllib.request\n",
    "from  bs4 import BeautifulSoup\n",
    "from selenium import webdriver\n",
    "from selenium.webdriver.common.keys import Keys\n",
    "import time\n",
    "binary = 'C:/chromedriver/chromedriver.exe'\n",
    "browser = webdriver.Chrome(binary) \n",
    "browser.get(\"https://www.bing.com/?scope=images&FORM=Z9LH1\") #빙 이미지 검색 url\n",
    "elem = browser.find_element_by_id(\"sb_form_q\") \n",
    "\n",
    "# 검색어 입력\n",
    "elem.send_keys(\"이태임\")\n",
    "elem.submit()\n",
    "\n",
    "# 반복할 횟수\n",
    "for i in range(1, 80):\n",
    "    browser.find_element_by_xpath(\"//body\").send_keys(Keys.END)\n",
    "\n",
    "    time.sleep(5)\n",
    "time.sleep(5) \n",
    "html = browser.page_source \n",
    "soup = BeautifulSoup(html, \"lxml\") \n",
    "\n",
    "def fetch_list_url():\n",
    "    params = []\n",
    "    imgList = soup.find_all(\"img\", class_=\"mimg\") \n",
    "    for im in imgList:\n",
    "        params.append(im[\"src\"]) \n",
    "    return params\n",
    "\n",
    "def fetch_detail_url():\n",
    "    params = fetch_list_url()\n",
    "    a = 1\n",
    "    for p in params: \n",
    "        urllib.request.urlretrieve(p, \"C:/bingImages/\" + str(a) + \".jpg\")\n",
    "        a = a + 1\n",
    "\n",
    "fetch_detail_url()\n",
    "\n",
    "browser.quit()"
   ]
  }
 ],
 "metadata": {
  "kernelspec": {
   "display_name": "Python 3",
   "language": "python",
   "name": "python3"
  },
  "language_info": {
   "codemirror_mode": {
    "name": "ipython",
    "version": 3
   },
   "file_extension": ".py",
   "mimetype": "text/x-python",
   "name": "python",
   "nbconvert_exporter": "python",
   "pygments_lexer": "ipython3",
   "version": "3.6.5"
  }
 },
 "nbformat": 4,
 "nbformat_minor": 2
}
